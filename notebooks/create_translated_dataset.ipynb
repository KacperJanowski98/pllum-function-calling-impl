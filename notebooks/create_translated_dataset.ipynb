{
 "cells": [
  {
   "cell_type": "markdown",
   "metadata": {},
   "source": [
    "# Creating a Translated Dataset\n",
    "\n",
    "This notebook demonstrates how to create a dataset with a percentage of queries translated from English to Polish."
   ]
  },
  {
   "cell_type": "markdown",
   "metadata": {},
   "source": [
    "## Setup\n",
    "\n",
    "First, let's set up our environment and import necessary libraries."
   ]
  },
  {
   "cell_type": "code",
   "execution_count": 1,
   "metadata": {},
   "outputs": [],
   "source": [
    "import sys\n",
    "sys.path.append('..')  # Add parent directory to path\n",
    "\n",
    "import json\n",
    "import os\n",
    "from pathlib import Path\n",
    "import pandas as pd\n",
    "import matplotlib.pyplot as plt\n",
    "import seaborn as sns\n",
    "\n",
    "from src.dataset import parse_json_entry\n",
    "from src.translation_dataset import (\n",
    "    create_translated_dataset,\n",
    "    analyze_translated_dataset\n",
    ")\n",
    "\n",
    "# Visual settings\n",
    "plt.rcParams['figure.figsize'] = (12, 8)\n",
    "sns.set_style('whitegrid')"
   ]
  },
  {
   "cell_type": "markdown",
   "metadata": {},
   "source": [
    "## Creating a Small Test Dataset\n",
    "\n",
    "First, let's create a small test dataset with a few translated queries to verify that everything works as expected."
   ]
  },
  {
   "cell_type": "code",
   "execution_count": 2,
   "metadata": {},
   "outputs": [
    {
     "name": "stderr",
     "output_type": "stream",
     "text": [
      "2025-03-28 14:48:09,717 - INFO - Ensured data directory exists\n"
     ]
    },
    {
     "name": "stdout",
     "output_type": "stream",
     "text": [
      "Warning: .env file not found. Please create one from .env.example\n"
     ]
    },
    {
     "name": "stderr",
     "output_type": "stream",
     "text": [
      "Note: Environment variable`HF_TOKEN` is set and is the current active token independently from the token you've just configured.\n",
      "2025-03-28 14:48:09,978 - WARNING - Note: Environment variable`HF_TOKEN` is set and is the current active token independently from the token you've just configured.\n",
      "2025-03-28 14:48:09,983 - INFO - Loading dataset Salesforce/xlam-function-calling-60k\n"
     ]
    },
    {
     "name": "stdout",
     "output_type": "stream",
     "text": [
      "Successfully logged in to Hugging Face\n"
     ]
    },
    {
     "name": "stderr",
     "output_type": "stream",
     "text": [
      "2025-03-28 14:48:13,671 - INFO - Dataset loaded with 60000 samples\n",
      "2025-03-28 14:48:13,681 - INFO - Sampled 10 entries from the dataset\n",
      "2025-03-28 14:48:13,683 - INFO - Starting translation of 50.0% of the queries\n",
      "2025-03-28 14:48:13,683 - INFO - Translating queries for 5 out of 10 samples (50.0%)\n",
      "2025-03-28 14:48:19,246 - INFO - Translated 5/5 queries\n",
      "2025-03-28 14:48:19,346 - INFO - Translation completed. Translated 5 queries.\n",
      "2025-03-28 14:48:19,348 - INFO - Saving translated dataset to ../data/test_translated_dataset.json\n",
      "2025-03-28 14:48:19,350 - INFO - Successfully saved 10 samples with 50.0% translated queries\n"
     ]
    },
    {
     "name": "stdout",
     "output_type": "stream",
     "text": [
      "Test dataset created at: ../data/test_translated_dataset.json\n"
     ]
    }
   ],
   "source": [
    "# Path for the test dataset\n",
    "test_output_path = Path('../data/test_translated_dataset.json')\n",
    "\n",
    "# Create a small dataset with 10 samples, 50% translated\n",
    "test_dataset_path = create_translated_dataset(\n",
    "    output_path=test_output_path,\n",
    "    sample_size=10,\n",
    "    translation_percentage=0.5,\n",
    "    random_seed=42\n",
    ")\n",
    "\n",
    "print(f\"Test dataset created at: {test_dataset_path}\")"
   ]
  },
  {
   "cell_type": "markdown",
   "metadata": {},
   "source": [
    "## Analyzing the Test Dataset\n",
    "\n",
    "Let's analyze the test dataset to verify the translations."
   ]
  },
  {
   "cell_type": "code",
   "execution_count": 3,
   "metadata": {},
   "outputs": [
    {
     "name": "stdout",
     "output_type": "stream",
     "text": [
      "Queries in the test dataset:\n",
      "Sample 1: Jaka jest szerokość i długość adresów IP '74 .125.24.100 'i '74 .125.24.101'?\n",
      "\n",
      "Sample 2: Tworzę łamigłówkę dla różnych grup wiekowych.Potrzebuję 7 łatwych słów dla dzieci, 14 średnich słów dla nastolatków i 20 twardych słów dla dorosłych.\n",
      "\n",
      "Sample 3: Pobrać informacje dla pojazdu z VIN 5xYZU3LA3DG123456.\n",
      "\n",
      "Sample 4: Odzyskaj przypadkowy fałszywy rekord banku z ID 987.\n",
      "\n",
      "Sample 5: Jaki jest wynik Flames dla nazwisk „John” i „Mary”?\n",
      "\n",
      "Sample 6: Place a small order at the Whole Foods located at 789 Red Boulevard. I need to order cheese, yogurt, and butter.\n",
      "\n",
      "Sample 7: Compute the Euclidean distance between points (10, 10) and (20, 20).\n",
      "\n",
      "Sample 8: Retrieve news on COVID-19 from the Health section in English for the US.\n",
      "\n",
      "Sample 9: What are some fake Google autocomplete suggestions for 'how to', 'do a backflip', and 'safely'? Also, provide the cast and crew of the movie 'The Dark Knight'.\n",
      "\n",
      "Sample 10: Find the 7th smallest number in the list [12, 34, 56, 78, 90, 23, 45, 67].\n",
      "\n"
     ]
    }
   ],
   "source": [
    "# Load and explore the test dataset\n",
    "with open(test_output_path, 'r', encoding='utf-8') as f:\n",
    "    test_data = json.load(f)\n",
    "\n",
    "# Display the queries from the first few samples\n",
    "print(\"Queries in the test dataset:\")\n",
    "for i, sample in enumerate(test_data):\n",
    "    print(f\"Sample {i+1}: {sample['query']}\\n\")"
   ]
  },
  {
   "cell_type": "code",
   "execution_count": 4,
   "metadata": {},
   "outputs": [
    {
     "name": "stderr",
     "output_type": "stream",
     "text": [
      "2025-03-28 14:48:25,096 - INFO - Analyzing translated dataset at ../data/test_translated_dataset.json\n",
      "2025-03-28 14:48:25,268 - INFO - Analysis complete - found 10 samples with the following language distribution:\n",
      "2025-03-28 14:48:25,269 - INFO -   - Polish: 5 samples (50.0%)\n",
      "2025-03-28 14:48:25,269 - INFO -   - English: 5 samples (50.0%)\n"
     ]
    },
    {
     "name": "stdout",
     "output_type": "stream",
     "text": [
      "Language distribution in the test dataset:\n"
     ]
    },
    {
     "data": {
      "application/vnd.microsoft.datawrangler.viewer.v0+json": {
       "columns": [
        {
         "name": "index",
         "rawType": "int64",
         "type": "integer"
        },
        {
         "name": "Language",
         "rawType": "object",
         "type": "string"
        },
        {
         "name": "Count",
         "rawType": "int64",
         "type": "integer"
        },
        {
         "name": "Percentage",
         "rawType": "float64",
         "type": "float"
        }
       ],
       "conversionMethod": "pd.DataFrame",
       "ref": "c78f7c9b-00f1-40fa-a324-134ee2fe9820",
       "rows": [
        [
         "0",
         "Polish",
         "5",
         "50.0"
        ],
        [
         "1",
         "English",
         "5",
         "50.0"
        ]
       ],
       "shape": {
        "columns": 3,
        "rows": 2
       }
      },
      "text/html": [
       "<div>\n",
       "<style scoped>\n",
       "    .dataframe tbody tr th:only-of-type {\n",
       "        vertical-align: middle;\n",
       "    }\n",
       "\n",
       "    .dataframe tbody tr th {\n",
       "        vertical-align: top;\n",
       "    }\n",
       "\n",
       "    .dataframe thead th {\n",
       "        text-align: right;\n",
       "    }\n",
       "</style>\n",
       "<table border=\"1\" class=\"dataframe\">\n",
       "  <thead>\n",
       "    <tr style=\"text-align: right;\">\n",
       "      <th></th>\n",
       "      <th>Language</th>\n",
       "      <th>Count</th>\n",
       "      <th>Percentage</th>\n",
       "    </tr>\n",
       "  </thead>\n",
       "  <tbody>\n",
       "    <tr>\n",
       "      <th>0</th>\n",
       "      <td>Polish</td>\n",
       "      <td>5</td>\n",
       "      <td>50.0</td>\n",
       "    </tr>\n",
       "    <tr>\n",
       "      <th>1</th>\n",
       "      <td>English</td>\n",
       "      <td>5</td>\n",
       "      <td>50.0</td>\n",
       "    </tr>\n",
       "  </tbody>\n",
       "</table>\n",
       "</div>"
      ],
      "text/plain": [
       "  Language  Count  Percentage\n",
       "0   Polish      5        50.0\n",
       "1  English      5        50.0"
      ]
     },
     "execution_count": 4,
     "metadata": {},
     "output_type": "execute_result"
    }
   ],
   "source": [
    "# Analyze the language distribution\n",
    "test_summary = analyze_translated_dataset(test_output_path)\n",
    "print(\"Language distribution in the test dataset:\")\n",
    "test_summary"
   ]
  },
  {
   "cell_type": "markdown",
   "metadata": {},
   "source": [
    "## Creating the Full Translated Dataset\n",
    "\n",
    "Now, let's create the full dataset with 40% of queries translated to Polish. Depending on the size of the dataset, this may take some time to complete."
   ]
  },
  {
   "cell_type": "code",
   "execution_count": 5,
   "metadata": {},
   "outputs": [
    {
     "name": "stderr",
     "output_type": "stream",
     "text": [
      "2025-03-28 14:48:29,125 - INFO - Ensured data directory exists\n",
      "Note: Environment variable`HF_TOKEN` is set and is the current active token independently from the token you've just configured.\n",
      "2025-03-28 14:48:29,269 - WARNING - Note: Environment variable`HF_TOKEN` is set and is the current active token independently from the token you've just configured.\n",
      "2025-03-28 14:48:29,271 - INFO - Loading dataset Salesforce/xlam-function-calling-60k\n"
     ]
    },
    {
     "name": "stdout",
     "output_type": "stream",
     "text": [
      "Warning: .env file not found. Please create one from .env.example\n",
      "Successfully logged in to Hugging Face\n"
     ]
    },
    {
     "name": "stderr",
     "output_type": "stream",
     "text": [
      "2025-03-28 14:48:31,850 - INFO - Dataset loaded with 60000 samples\n",
      "2025-03-28 14:48:31,858 - INFO - Sampled 1000 entries from the dataset\n",
      "2025-03-28 14:48:31,860 - INFO - Starting translation of 40.0% of the queries\n",
      "2025-03-28 14:48:31,860 - INFO - Translating queries for 400 out of 1000 samples (40.0%)\n",
      "2025-03-28 14:48:40,676 - INFO - Translated 10/400 queries\n",
      "2025-03-28 14:48:51,683 - INFO - Translated 20/400 queries\n",
      "2025-03-28 14:49:02,404 - INFO - Translated 30/400 queries\n",
      "2025-03-28 14:49:13,203 - INFO - Translated 40/400 queries\n",
      "2025-03-28 14:49:22,702 - INFO - Translated 50/400 queries\n",
      "2025-03-28 14:49:25,167 - WARNING - Translation attempt 1 failed: the JSON object must be str, bytes or bytearray, not NoneType\n",
      "2025-03-28 14:49:25,169 - INFO - Retrying in 1 seconds...\n",
      "2025-03-28 14:49:34,478 - INFO - Translated 60/400 queries\n",
      "2025-03-28 14:49:46,007 - INFO - Translated 70/400 queries\n",
      "2025-03-28 14:49:55,992 - INFO - Translated 80/400 queries\n",
      "2025-03-28 14:50:06,013 - INFO - Translated 90/400 queries\n",
      "2025-03-28 14:50:17,691 - INFO - Translated 100/400 queries\n",
      "2025-03-28 14:50:27,587 - INFO - Translated 110/400 queries\n",
      "2025-03-28 14:50:37,770 - INFO - Translated 120/400 queries\n",
      "2025-03-28 14:50:48,617 - INFO - Translated 130/400 queries\n",
      "2025-03-28 14:50:59,073 - INFO - Translated 140/400 queries\n",
      "2025-03-28 14:51:08,687 - INFO - Translated 150/400 queries\n",
      "2025-03-28 14:51:18,415 - INFO - Translated 160/400 queries\n",
      "2025-03-28 14:51:27,183 - INFO - Translated 170/400 queries\n",
      "2025-03-28 14:51:35,934 - INFO - Translated 180/400 queries\n",
      "2025-03-28 14:51:46,584 - INFO - Translated 190/400 queries\n",
      "2025-03-28 14:51:56,612 - INFO - Translated 200/400 queries\n",
      "2025-03-28 14:52:06,346 - INFO - Translated 210/400 queries\n",
      "2025-03-28 14:52:15,129 - INFO - Translated 220/400 queries\n",
      "2025-03-28 14:52:24,255 - INFO - Translated 230/400 queries\n",
      "2025-03-28 14:52:34,426 - INFO - Translated 240/400 queries\n",
      "2025-03-28 14:52:43,998 - INFO - Translated 250/400 queries\n",
      "2025-03-28 14:52:53,548 - INFO - Translated 260/400 queries\n",
      "2025-03-28 14:53:04,773 - INFO - Translated 270/400 queries\n",
      "2025-03-28 14:53:13,616 - INFO - Translated 280/400 queries\n",
      "2025-03-28 14:53:24,370 - INFO - Translated 290/400 queries\n",
      "2025-03-28 14:53:34,311 - INFO - Translated 300/400 queries\n",
      "2025-03-28 14:53:45,053 - INFO - Translated 310/400 queries\n",
      "2025-03-28 14:53:53,480 - INFO - Translated 320/400 queries\n",
      "2025-03-28 14:54:05,403 - INFO - Translated 330/400 queries\n",
      "2025-03-28 14:54:15,944 - INFO - Translated 340/400 queries\n",
      "2025-03-28 14:54:26,307 - INFO - Translated 350/400 queries\n",
      "2025-03-28 14:54:35,783 - INFO - Translated 360/400 queries\n",
      "2025-03-28 14:54:46,517 - INFO - Translated 370/400 queries\n",
      "2025-03-28 14:54:57,655 - INFO - Translated 380/400 queries\n",
      "2025-03-28 14:55:07,931 - INFO - Translated 390/400 queries\n",
      "2025-03-28 14:55:17,529 - INFO - Translated 400/400 queries\n",
      "2025-03-28 14:55:17,631 - INFO - Translation completed. Translated 400 queries.\n",
      "2025-03-28 14:55:17,633 - INFO - Saving translated dataset to ../data/xlam_function_calling_pl.json\n",
      "2025-03-28 14:55:17,645 - INFO - Successfully saved 1000 samples with 40.0% translated queries\n"
     ]
    },
    {
     "name": "stdout",
     "output_type": "stream",
     "text": [
      "Full dataset created at: ../data/xlam_function_calling_pl.json\n"
     ]
    }
   ],
   "source": [
    "# Path for the full dataset\n",
    "full_output_path = Path('../data/xlam_function_calling_pl.json')\n",
    "\n",
    "# Option 1: Creating a full dataset with all samples (this will take a long time)\n",
    "# full_dataset_path = create_translated_dataset(\n",
    "#     output_path=full_output_path,\n",
    "#     translation_percentage=0.4,\n",
    "#     random_seed=42\n",
    "# )\n",
    "\n",
    "# Option 2: Creating a more manageable dataset (e.g., 2000 samples)\n",
    "sample_size = 1000  # Adjust based on your needs and resources\n",
    "full_dataset_path = create_translated_dataset(\n",
    "    output_path=full_output_path,\n",
    "    sample_size=sample_size,\n",
    "    translation_percentage=0.4,\n",
    "    random_seed=42\n",
    ")\n",
    "\n",
    "print(f\"Full dataset created at: {full_dataset_path}\")"
   ]
  },
  {
   "cell_type": "markdown",
   "metadata": {},
   "source": [
    "## Analyzing the Full Dataset\n",
    "\n",
    "Now, let's analyze the full dataset to verify that approximately 40% of the queries have been translated."
   ]
  },
  {
   "cell_type": "code",
   "execution_count": 6,
   "metadata": {},
   "outputs": [
    {
     "name": "stderr",
     "output_type": "stream",
     "text": [
      "2025-03-28 14:55:47,748 - INFO - Analyzing translated dataset at ../data/xlam_function_calling_pl.json\n",
      "2025-03-28 14:55:48,576 - INFO - Analysis complete - found 1000 samples with the following language distribution:\n",
      "2025-03-28 14:55:48,577 - INFO -   - English: 596 samples (59.6%)\n",
      "2025-03-28 14:55:48,577 - INFO -   - Polish: 398 samples (39.8%)\n",
      "2025-03-28 14:55:48,577 - INFO -   - de: 1 samples (0.1%)\n",
      "2025-03-28 14:55:48,578 - INFO -   - cy: 1 samples (0.1%)\n",
      "2025-03-28 14:55:48,578 - INFO -   - et: 1 samples (0.1%)\n",
      "2025-03-28 14:55:48,579 - INFO -   - ro: 1 samples (0.1%)\n",
      "2025-03-28 14:55:48,579 - INFO -   - fr: 1 samples (0.1%)\n",
      "2025-03-28 14:55:48,579 - INFO -   - tl: 1 samples (0.1%)\n"
     ]
    },
    {
     "name": "stdout",
     "output_type": "stream",
     "text": [
      "Language distribution in the full dataset:\n"
     ]
    },
    {
     "data": {
      "application/vnd.microsoft.datawrangler.viewer.v0+json": {
       "columns": [
        {
         "name": "index",
         "rawType": "int64",
         "type": "integer"
        },
        {
         "name": "Language",
         "rawType": "object",
         "type": "string"
        },
        {
         "name": "Count",
         "rawType": "int64",
         "type": "integer"
        },
        {
         "name": "Percentage",
         "rawType": "float64",
         "type": "float"
        }
       ],
       "conversionMethod": "pd.DataFrame",
       "ref": "269468e9-8fc0-48f1-aff6-94ad1761cbc2",
       "rows": [
        [
         "0",
         "English",
         "596",
         "59.6"
        ],
        [
         "1",
         "Polish",
         "398",
         "39.8"
        ],
        [
         "2",
         "de",
         "1",
         "0.1"
        ],
        [
         "3",
         "cy",
         "1",
         "0.1"
        ],
        [
         "4",
         "et",
         "1",
         "0.1"
        ],
        [
         "5",
         "ro",
         "1",
         "0.1"
        ],
        [
         "6",
         "fr",
         "1",
         "0.1"
        ],
        [
         "7",
         "tl",
         "1",
         "0.1"
        ]
       ],
       "shape": {
        "columns": 3,
        "rows": 8
       }
      },
      "text/html": [
       "<div>\n",
       "<style scoped>\n",
       "    .dataframe tbody tr th:only-of-type {\n",
       "        vertical-align: middle;\n",
       "    }\n",
       "\n",
       "    .dataframe tbody tr th {\n",
       "        vertical-align: top;\n",
       "    }\n",
       "\n",
       "    .dataframe thead th {\n",
       "        text-align: right;\n",
       "    }\n",
       "</style>\n",
       "<table border=\"1\" class=\"dataframe\">\n",
       "  <thead>\n",
       "    <tr style=\"text-align: right;\">\n",
       "      <th></th>\n",
       "      <th>Language</th>\n",
       "      <th>Count</th>\n",
       "      <th>Percentage</th>\n",
       "    </tr>\n",
       "  </thead>\n",
       "  <tbody>\n",
       "    <tr>\n",
       "      <th>0</th>\n",
       "      <td>English</td>\n",
       "      <td>596</td>\n",
       "      <td>59.6</td>\n",
       "    </tr>\n",
       "    <tr>\n",
       "      <th>1</th>\n",
       "      <td>Polish</td>\n",
       "      <td>398</td>\n",
       "      <td>39.8</td>\n",
       "    </tr>\n",
       "    <tr>\n",
       "      <th>2</th>\n",
       "      <td>de</td>\n",
       "      <td>1</td>\n",
       "      <td>0.1</td>\n",
       "    </tr>\n",
       "    <tr>\n",
       "      <th>3</th>\n",
       "      <td>cy</td>\n",
       "      <td>1</td>\n",
       "      <td>0.1</td>\n",
       "    </tr>\n",
       "    <tr>\n",
       "      <th>4</th>\n",
       "      <td>et</td>\n",
       "      <td>1</td>\n",
       "      <td>0.1</td>\n",
       "    </tr>\n",
       "    <tr>\n",
       "      <th>5</th>\n",
       "      <td>ro</td>\n",
       "      <td>1</td>\n",
       "      <td>0.1</td>\n",
       "    </tr>\n",
       "    <tr>\n",
       "      <th>6</th>\n",
       "      <td>fr</td>\n",
       "      <td>1</td>\n",
       "      <td>0.1</td>\n",
       "    </tr>\n",
       "    <tr>\n",
       "      <th>7</th>\n",
       "      <td>tl</td>\n",
       "      <td>1</td>\n",
       "      <td>0.1</td>\n",
       "    </tr>\n",
       "  </tbody>\n",
       "</table>\n",
       "</div>"
      ],
      "text/plain": [
       "  Language  Count  Percentage\n",
       "0  English    596        59.6\n",
       "1   Polish    398        39.8\n",
       "2       de      1         0.1\n",
       "3       cy      1         0.1\n",
       "4       et      1         0.1\n",
       "5       ro      1         0.1\n",
       "6       fr      1         0.1\n",
       "7       tl      1         0.1"
      ]
     },
     "execution_count": 6,
     "metadata": {},
     "output_type": "execute_result"
    }
   ],
   "source": [
    "# Analyze the language distribution\n",
    "full_summary = analyze_translated_dataset(full_output_path)\n",
    "print(\"Language distribution in the full dataset:\")\n",
    "full_summary"
   ]
  },
  {
   "cell_type": "code",
   "execution_count": 7,
   "metadata": {},
   "outputs": [
    {
     "data": {
      "image/png": "[encoded data removed]",
      "text/plain": [
       "<Figure size 1000x600 with 1 Axes>"
      ]
     },
     "metadata": {},
     "output_type": "display_data"
    }
   ],
   "source": [
    "# Visualize the language distribution\n",
    "plt.figure(figsize=(10, 6))\n",
    "sns.barplot(x='Language', y='Percentage', data=full_summary)\n",
    "plt.title('Language Distribution in the Translated Dataset')\n",
    "plt.xlabel('Language')\n",
    "plt.ylabel('Percentage of Queries')\n",
    "plt.tight_layout()\n",
    "plt.savefig('../data/language_distribution.png')\n",
    "plt.show()"
   ]
  },
  {
   "cell_type": "markdown",
   "metadata": {},
   "source": [
    "## Examining Examples of Translated Queries\n",
    "\n",
    "Let's look at some examples of translated queries to verify the quality."
   ]
  },
  {
   "cell_type": "code",
   "execution_count": 8,
   "metadata": {},
   "outputs": [
    {
     "name": "stdout",
     "output_type": "stream",
     "text": [
      "Examples of English Queries:\n",
      "1. Jaki jest wynik Flames dla nazwisk „John” i „Mary”?\n",
      "\n",
      "2. Pobierz dane Ticker dla Ethereum na rynkach USD i euro.\n",
      "\n",
      "3. Odzyskaj zwolnienia prasowe dla Tesli na stronie 1.\n",
      "\n",
      "4. Pobieraj produkty z pierwszych 3 stron sklepu Nike Shopify.\n",
      "\n",
      "5. Oblicz odchylenie standardowe liczb 5, 10, 15, 20, 25.\n",
      "\n",
      "\n",
      "Examples of Polish Queries:\n",
      "1. Jaka jest szerokość i długość adresów IP '74 .125.24.100 'i '74 .125.24.101'?\n",
      "\n",
      "2. Tworzę łamigłówkę dla różnych grup wiekowych.Potrzebuję 7 łatwych słów dla dzieci, 14 średnich słów dla nastolatków i 20 twardych słów dla dorosłych.\n",
      "\n",
      "3. Pobrać informacje dla pojazdu z VIN 5xYZU3LA3DG123456.\n",
      "\n",
      "4. Odzyskaj przypadkowy fałszywy rekord banku z ID 987.\n",
      "\n",
      "5. Złóż małe zamówienie w Whole Foods położonym przy 789 Red Boulevard.Muszę zamówić ser, jogurt i masło.\n",
      "\n"
     ]
    }
   ],
   "source": [
    "# Load the full dataset\n",
    "with open(full_output_path, 'r', encoding='utf-8') as f:\n",
    "    full_data = json.load(f)\n",
    "\n",
    "# Function to detect if a query is in Polish (simplified)\n",
    "def is_polish(text):\n",
    "    return any(c in text for c in 'ąćęłńóśźżĄĆĘŁŃÓŚŹŻ')\n",
    "\n",
    "# Get examples of English and Polish queries\n",
    "english_examples = []\n",
    "polish_examples = []\n",
    "\n",
    "for sample in full_data:\n",
    "    query = sample['query']\n",
    "    if len(english_examples) < 5 and not is_polish(query):\n",
    "        english_examples.append(query)\n",
    "    elif len(polish_examples) < 5 and is_polish(query):\n",
    "        polish_examples.append(query)\n",
    "        \n",
    "    if len(english_examples) >= 5 and len(polish_examples) >= 5:\n",
    "        break\n",
    "\n",
    "# Display examples\n",
    "print(\"Examples of English Queries:\")\n",
    "for i, query in enumerate(english_examples):\n",
    "    print(f\"{i+1}. {query}\\n\")\n",
    "\n",
    "print(\"\\nExamples of Polish Queries:\")\n",
    "for i, query in enumerate(polish_examples):\n",
    "    print(f\"{i+1}. {query}\\n\")"
   ]
  },
  {
   "cell_type": "markdown",
   "metadata": {},
   "source": [
    "## Verify Dataset Structure\n",
    "\n",
    "Let's verify that the dataset structure is maintained, with only the queries translated."
   ]
  },
  {
   "cell_type": "code",
   "execution_count": 9,
   "metadata": {},
   "outputs": [
    {
     "name": "stdout",
     "output_type": "stream",
     "text": [
      "Structure of a sample with a Polish query:\n",
      "Query: Jaka jest szerokość i długość adresów IP '74 .125.24.100 'i '74 .125.24.101'?\n",
      "\n",
      "Tools:\n",
      "- Name: get_ip_location\n",
      "  Description: Retrieves the latitude and longitude coordinates of a given IP address using the ip-api.com API.\n",
      "  Parameters: ['ip']\n",
      "\n",
      "Answers:\n",
      "- Tool: get_ip_location\n",
      "  Arguments: {'ip': '74.125.24.100'}\n",
      "\n",
      "- Tool: get_ip_location\n",
      "  Arguments: {'ip': '74.125.24.101'}\n",
      "\n"
     ]
    }
   ],
   "source": [
    "# Select a sample with a Polish query\n",
    "polish_sample = None\n",
    "for sample in full_data:\n",
    "    if is_polish(sample['query']):\n",
    "        polish_sample = sample\n",
    "        break\n",
    "\n",
    "if polish_sample:\n",
    "    # Parse the sample to examine its structure\n",
    "    parsed_sample = parse_json_entry(polish_sample)\n",
    "    \n",
    "    print(\"Structure of a sample with a Polish query:\")\n",
    "    print(f\"Query: {parsed_sample['query']}\\n\")\n",
    "    \n",
    "    print(\"Tools:\")\n",
    "    for tool in parsed_sample['tools'][:2]:  # Show first two tools\n",
    "        print(f\"- Name: {tool['name']}\")\n",
    "        print(f\"  Description: {tool['description']}\")\n",
    "        print(f\"  Parameters: {list(tool['parameters'].keys())}\\n\")\n",
    "    \n",
    "    print(\"Answers:\")\n",
    "    for answer in parsed_sample['answers'][:2]:  # Show first two answers\n",
    "        print(f\"- Tool: {answer['name']}\")\n",
    "        print(f\"  Arguments: {answer['arguments']}\\n\")\n",
    "else:\n",
    "    print(\"No sample with a Polish query found.\")"
   ]
  },
  {
   "cell_type": "markdown",
   "metadata": {},
   "source": [
    "## Save Dataset Statistics\n",
    "\n",
    "Finally, let's save some statistics about the dataset."
   ]
  },
  {
   "cell_type": "code",
   "execution_count": 10,
   "metadata": {},
   "outputs": [
    {
     "name": "stdout",
     "output_type": "stream",
     "text": [
      "total_samples: 1000\n",
      "english_samples: 596\n",
      "polish_samples: 398\n",
      "polish_percentage: 39.8\n",
      "\n",
      "Statistics saved to ../data/dataset_stats.json\n"
     ]
    }
   ],
   "source": [
    "# Prepare dataset statistics\n",
    "stats = {\n",
    "    \"total_samples\": len(full_data),\n",
    "    \"english_samples\": int(full_summary[full_summary['Language'] == 'English']['Count'].values[0] \n",
    "                           if 'English' in full_summary['Language'].values else 0),\n",
    "    \"polish_samples\": int(full_summary[full_summary['Language'] == 'Polish']['Count'].values[0] \n",
    "                          if 'Polish' in full_summary['Language'].values else 0),\n",
    "    \"polish_percentage\": float(full_summary[full_summary['Language'] == 'Polish']['Percentage'].values[0] \n",
    "                              if 'Polish' in full_summary['Language'].values else 0),\n",
    "}\n",
    "\n",
    "# Display statistics\n",
    "for key, value in stats.items():\n",
    "    print(f\"{key}: {value}\")\n",
    "\n",
    "# Save statistics to file\n",
    "stats_path = Path('../data/dataset_stats.json')\n",
    "with open(stats_path, 'w', encoding='utf-8') as f:\n",
    "    json.dump(stats, f, indent=2)\n",
    "\n",
    "print(f\"\\nStatistics saved to {stats_path}\")"
   ]
  },
  {
   "cell_type": "markdown",
   "metadata": {},
   "source": [
    "## Conclusion\n",
    "\n",
    "In this notebook, we have:\n",
    "\n",
    "1. Created a small test dataset to verify the translation functionality\n",
    "2. Created a larger dataset with approximately 40% of queries translated to Polish\n",
    "3. Analyzed and visualized the language distribution in the dataset\n",
    "4. Verified that the dataset structure is maintained, with only the queries translated\n",
    "5. Saved statistics about the dataset"
   ]
  }
 ],
 "metadata": {
  "kernelspec": {
   "display_name": ".venv",
   "language": "python",
   "name": "python3"
  },
  "language_info": {
   "codemirror_mode": {
    "name": "ipython",
    "version": 3
   },
   "file_extension": ".py",
   "mimetype": "text/x-python",
   "name": "python",
   "nbconvert_exporter": "python",
   "pygments_lexer": "ipython3",
   "version": "3.11.8"
  }
 },
 "nbformat": 4,
 "nbformat_minor": 4
}
